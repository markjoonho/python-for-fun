{
 "cells": [
  {
   "cell_type": "markdown",
   "metadata": {},
   "source": [
    "\n",
    "Below question is from [Programmers](https://programmers.co.kr/) and code is by [Joonho Lee](https://www.joonho.dev). If you have any other ideas or questions about my code, please leave a comment below.\n",
    "\n",
    "---\n",
    "\n",
    "## Problem Description\n",
    "\n",
    "They are trying to rescue people trapped on an island using a lifeboat. Lifeboats are small and can only ride up to two people at a time, and they have weight restrictions. For example, if people's weight is [70kg, 50kg, 80kg, 50kg] and the weight limit of the lifeboat is 100kg, the second person and the fourth person can ride together, but the first person and the third person cannot ride together since the their weights over the limit of the lifeboat. Try to rescue everyone by using as few lifeboats as possible. Given an array of people's weights and the weight limit of lifeboats as parameters, write the solution function to return the minimum number of lifeboats needed to rescue everyone.\n",
    "\n",
    "---\n",
    "\n",
    "## Restriction\n",
    "\n",
    "- There are more than or equal to 1 person and less than or equal to 50,000 people trapped on a desert island.\n",
    "- Each people's weights are greater than or equal to 40kg and less than or equal to 240kg.\n",
    "- The weight limit for life boat is greater than or equal to 40kg and less than or equal to 240kg.\n",
    "- The weight limit of a lifeboat is always higher than the maximum weight of a person.\n",
    "\n",
    "---\n",
    "\n",
    "## I/O Example\n",
    "\n",
    "| people           | limit | return |\n",
    "| ---------------- | ----- | ------ |\n",
    "| [70, 50, 80, 50] | 100   | 3      |\n",
    "| [70, 80, 50]     | 100   | 3      |\n",
    "\n",
    "---\n",
    "\n",
    "## Code"
   ]
  },
  {
   "cell_type": "code",
   "execution_count": 1,
   "metadata": {},
   "outputs": [],
   "source": [
    "def solution(people, limit):\n",
    "    people.sort()\n",
    "    start = 0\n",
    "    end = len(people) - 1\n",
    "    answer = 0\n",
    "\n",
    "    while start <= end:\n",
    "        if people[start] + people[end] <= limit:\n",
    "            start += 1\n",
    "            end -= 1\n",
    "        else:\n",
    "            end -= 1\n",
    "        answer += 1\n",
    "    return answer"
   ]
  },
  {
   "cell_type": "markdown",
   "metadata": {},
   "source": [
    "## Test"
   ]
  },
  {
   "cell_type": "code",
   "execution_count": 2,
   "metadata": {},
   "outputs": [
    {
     "name": "stdout",
     "output_type": "stream",
     "text": [
      "3\n",
      "3\n"
     ]
    }
   ],
   "source": [
    "# Test Cases\n",
    "print(solution([70, 50, 80, 50], 100))\n",
    "print(solution([70, 80, 50], 100))"
   ]
  }
 ],
 "metadata": {
  "kernelspec": {
   "display_name": "Python 3",
   "language": "python",
   "name": "python3"
  },
  "language_info": {
   "codemirror_mode": {
    "name": "ipython",
    "version": 3
   },
   "file_extension": ".py",
   "mimetype": "text/x-python",
   "name": "python",
   "nbconvert_exporter": "python",
   "pygments_lexer": "ipython3",
   "version": "3.8.3"
  }
 },
 "nbformat": 4,
 "nbformat_minor": 4
}
