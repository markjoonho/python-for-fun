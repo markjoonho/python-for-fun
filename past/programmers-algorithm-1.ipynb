{
 "cells": [
  {
   "cell_type": "markdown",
   "metadata": {},
   "source": [
    "\n",
    "Below question is from [Programmers](https://programmers.co.kr/) and code is by [Joonho Lee](https://www.joonho.dev). If you have any other ideas or questions about my code, please leave a comment below.\n",
    "\n",
    "---\n",
    "\n",
    "## Problem Description\n",
    "\n",
    "I want to check if there are any phone numbers listed in the phone book is a prefix of another number.\n",
    "If the phone number is as follows, the phone number of the rescue team is the prefix of Yeong Seok's phone number.\n",
    "\n",
    "- Rescue Team: 119\n",
    "- Park Joonyoung: 97674223\n",
    "- Ji Yeong Seok: 1195524421\n",
    "\n",
    "When the array phone_book containing the phone numbers which are in the phone book is given as a parameter of the solution function, write the solution function to return false if a number is a prefix of another number, and true otherwise.\n",
    "\n",
    "---\n",
    "\n",
    "## Restriction\n",
    "\n",
    "- The length of phone_book is greater than or equal to 1, and less than or equal to 1,000,000.\n",
    "\n",
    "- Each phone numbers' length is greater than or equal to 1, and less than or equal to 20.\n",
    "\n",
    "---\n",
    "\n",
    "## I/O Example\n",
    "\n",
    "| phone_book                        | return |\n",
    "| :-------------------------------- | :----- |\n",
    "| [\"119\", \"97674223\", \"1195524421\"] | false  |\n",
    "| [\"123\",\"456\",\"789\"]               | true   |\n",
    "| [\"12\",\"123\",\"1235\",\"567\",\"88\"]    | false  |\n",
    "\n",
    "---\n",
    "\n",
    "## I/O Example Explanation\n",
    "\n",
    "###### Example 1\n",
    "\n",
    "Same as the example from the problem description.\n",
    "\n",
    "###### Example 2\n",
    "\n",
    "Since one number is never a prefix of another, the answer is true.\n",
    "\n",
    "###### Example 3\n",
    "\n",
    "The first phone number, “12” is the prefix for the second phone number “123”. So the answer is false.\n",
    "\n",
    "---\n",
    "\n",
    "## Code\n"
   ]
  },
  {
   "cell_type": "code",
   "execution_count": 1,
   "metadata": {},
   "outputs": [],
   "source": [
    "def solution(phone_book):\n",
    "    ls = sorted(phone_book)\n",
    "    num = len(phone_book)\n",
    "    if num == 0 or num == 1:\n",
    "        return True\n",
    "    for i in range(num):\n",
    "        k = i+1\n",
    "        while k < num:\n",
    "            if ls[i] == ls[k][:len(ls[i])]:\n",
    "                return False\n",
    "            else:\n",
    "                return True\n",
    "            k += 1\n",
    "        return True"
   ]
  },
  {
   "cell_type": "markdown",
   "metadata": {},
   "source": [
    "## Test"
   ]
  },
  {
   "cell_type": "code",
   "execution_count": 2,
   "metadata": {},
   "outputs": [
    {
     "name": "stdout",
     "output_type": "stream",
     "text": [
      "False\n",
      "True\n",
      "False\n"
     ]
    }
   ],
   "source": [
    "# Test Cases\n",
    "print(solution([\"119\", \"97674223\", \"1195524421\"]))\n",
    "print(solution([\"123\",\"456\",\"789\"]))\n",
    "print(solution([\"12\",\"123\",\"1235\",\"567\",\"88\"]))"
   ]
  }
 ],
 "metadata": {
  "kernelspec": {
   "display_name": "Python 3",
   "language": "python",
   "name": "python3"
  },
  "language_info": {
   "codemirror_mode": {
    "name": "ipython",
    "version": 3
   },
   "file_extension": ".py",
   "mimetype": "text/x-python",
   "name": "python",
   "nbconvert_exporter": "python",
   "pygments_lexer": "ipython3",
   "version": "3.8.3"
  }
 },
 "nbformat": 4,
 "nbformat_minor": 4
}
