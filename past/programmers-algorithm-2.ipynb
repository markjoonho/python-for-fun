{
 "cells": [
  {
   "cell_type": "markdown",
   "metadata": {},
   "source": [
    "Below question is from [Programmers](https://programmers.co.kr/) and code is by [Joonho Lee](https://www.joonho.dev). If you have any other ideas or questions about my code, please leave a comment below.\n",
    "\n",
    "---\n",
    "## Problem Description\n",
    "\n",
    "Typical printers print in the order in which print requests are received. This may result in important documents being printed later. To compensate for this problem, we have developed a printer that prints high-priority documents first. This newly developed printer performs printing operations in the following manner:\n",
    "\n",
    "1. Remove the document (J) at the front of the print waiting list from the wait list.\n",
    "2. If any document in the remaining print waiting list is more important than J, place J at the end of the wait list.\n",
    "3. Otherwise, print J.\n",
    "\n",
    "For example, if four documents (A, B, C, D) are in the print waiting list in order and the importance is 21 32 then they will be printed in the order of CDA B.\n",
    "\n",
    "I would like to know the number of documents I requested to print. In the example above, C is printed first and A is printed third.\n",
    "\n",
    "When the parameters give an array of priorities containing the importance of the documents in the current waiting list and a location that tells me where the documents I requested to print are in the current waiting list, write the solution function to return the number of times the documents I requested to print are printed.\n",
    "\n",
    "---\n",
    "\n",
    "## Restrictions\n",
    "\n",
    "- Currently, there are at least one document or less than 100 documents in the wait list.\n",
    "- The importance of print jobs is expressed in 1 to 9 and larger numbers mean more importance.\n",
    "- location has a value greater than or equal to 0 (number of operations in the current wait list - 1) and is represented by 0 at the front of the wait list and 1 at the second.\n",
    "\n",
    "---\n",
    "\n",
    "## I/O Example\n",
    "\n",
    "|priorities|location|return|\n",
    "|:----------|:------|:------|\n",
    "|[2, 1, 3, 2]|2|1|\n",
    "|[1, 1, 9, 1, 1, 1]|0|5|\n",
    "\n",
    "## I/O Example Description\n",
    "\n",
    "##### Example #1\n",
    "This is an example of a problem.\n",
    "\n",
    "###### Example #2\n",
    "Six documents (A, B, C, D, E, F) are in the print waiting list and the importance is 1 1 9 1 1 1, so print them in order of C D E F A B."
   ]
  },
  {
   "cell_type": "code",
   "execution_count": 1,
   "metadata": {},
   "outputs": [],
   "source": [
    "def solution(priorities, location):\n",
    "    answer = 0\n",
    "    big = max(priorities)\n",
    "    while True:\n",
    "        a = priorities.pop(0)\n",
    "        if a == big:\n",
    "            answer += 1\n",
    "            if location == 0:\n",
    "                break;\n",
    "            else:\n",
    "                location -= 1\n",
    "            big = max(priorities)\n",
    "        else:\n",
    "            priorities.append(a)\n",
    "            if location == 0:\n",
    "                location = len(priorities) - 1\n",
    "            else:\n",
    "                location -= 1         \n",
    "    return answer"
   ]
  },
  {
   "cell_type": "code",
   "execution_count": 2,
   "metadata": {},
   "outputs": [
    {
     "name": "stdout",
     "output_type": "stream",
     "text": [
      "1\n",
      "5\n"
     ]
    }
   ],
   "source": [
    "# Test\n",
    "print(solution([2,1,3,2],2))\n",
    "print(solution([1,1,9,1,1,1],0))"
   ]
  }
 ],
 "metadata": {
  "kernelspec": {
   "display_name": "Python 3",
   "language": "python",
   "name": "python3"
  },
  "language_info": {
   "codemirror_mode": {
    "name": "ipython",
    "version": 3
   },
   "file_extension": ".py",
   "mimetype": "text/x-python",
   "name": "python",
   "nbconvert_exporter": "python",
   "pygments_lexer": "ipython3",
   "version": "3.8.3"
  }
 },
 "nbformat": 4,
 "nbformat_minor": 4
}
