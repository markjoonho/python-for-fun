{
 "cells": [
  {
   "cell_type": "markdown",
   "metadata": {},
   "source": [
    "\n",
    "Below question is from [Programmers](https://programmers.co.kr/) and code is by [Joonho Lee](https://www.joonho.dev). If you have any other ideas or questions about my code, please leave a comment below.\n",
    "\n",
    "---\n",
    "\n",
    "## Problem Description\n",
    "\n",
    "Given a zero or positive integer, concatenate the integers together to find out the largest number you can make.\n",
    "\n",
    "For example, if the given integer is [6, 10, 2], you can make [6102, 6210, 1062, 1026, 2610, 2106], and the largest from this is 6210.\n",
    "\n",
    "Write the solution function to return the largest number that can be made by rearranging the order as a string when an array **numbers** containing zero or positive integers is given as a parameter.\n",
    "\n",
    "---\n",
    "\n",
    "## Restrictions\n",
    "\n",
    "- The length of **numbers** is greater than or equal to 1, and less than or equal to 10,0000.\n",
    "- Each elements of **numbers** is greater than or equal to 1, and less than or equal to 1000.\n",
    "- The correct answer may be too large, so convert it to a string and return.\n",
    "\n",
    "---\n",
    "\n",
    "## I/O Example\n",
    "\n",
    "| numbers           | return    |\n",
    "| ----------------- | --------- |\n",
    "| [6, 10, 2]        | \"6210\"    |\n",
    "| [3, 30, 34, 5, 9] | \"9534330\" |\n",
    "\n",
    "---\n",
    "\n",
    "## Code\n"
   ]
  },
  {
   "cell_type": "code",
   "execution_count": 1,
   "metadata": {},
   "outputs": [],
   "source": [
    "def solution(numbers):\n",
    "    answer = ''\n",
    "    lst = []\n",
    "    for num in numbers:\n",
    "        lst.append(str(num))\n",
    "\n",
    "    lst.sort(key = lambda x:x*3, reverse=True)\n",
    "    answer = str(int(''.join(lst)))\n",
    "    return answer"
   ]
  },
  {
   "cell_type": "markdown",
   "metadata": {},
   "source": [
    "## Test"
   ]
  },
  {
   "cell_type": "code",
   "execution_count": 2,
   "metadata": {},
   "outputs": [
    {
     "name": "stdout",
     "output_type": "stream",
     "text": [
      "6210\n",
      "9534330\n"
     ]
    }
   ],
   "source": [
    "print(solution([6, 10, 2]))\n",
    "print(solution([3, 30, 34, 5, 9]))"
   ]
  }
 ],
 "metadata": {
  "kernelspec": {
   "display_name": "Python 3",
   "language": "python",
   "name": "python3"
  },
  "language_info": {
   "codemirror_mode": {
    "name": "ipython",
    "version": 3
   },
   "file_extension": ".py",
   "mimetype": "text/x-python",
   "name": "python",
   "nbconvert_exporter": "python",
   "pygments_lexer": "ipython3",
   "version": "3.8.3"
  }
 },
 "nbformat": 4,
 "nbformat_minor": 4
}
