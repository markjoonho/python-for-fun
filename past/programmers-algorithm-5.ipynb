{
 "cells": [
  {
   "cell_type": "markdown",
   "metadata": {},
   "source": [
    "\n",
    "Below question is from [Programmers](https://programmers.co.kr/) and code is by [Joonho Lee](https://www.joonho.dev). If you have any other ideas or questions about my code, please leave a comment below.\n",
    "\n",
    "---\n",
    "\n",
    "## Problem Description\n",
    "\n",
    "Lots of maraton runners participate the marathon. All but one athlete completed the marathon.\n",
    "\n",
    "There is given array **participant** which contains the names of the atheletes who participated in the maraton and **completion** which contains the names of the atheletes who finished the marathon. Please write the function that return the name of an athlete who could not finish the marathon.\n",
    "\n",
    "## Restrictions\n",
    "\n",
    "- The number of atheletes participating in the marathon is greater than or equal to 1, and less than or equal to 10,0000.\n",
    "- The length of completion is always 1 less than the length of the participant.\n",
    "- The length of names in participant are greater than or equal to 1 and less than or equal to 20. (all names are writeen by lowercase alphabetic characters).\n",
    "- Some of the participants may have the same name.\n",
    "\n",
    "## I/O Example\n",
    "\n",
    "| participant                                       | completion                               | return   |\n",
    "| ------------------------------------------------- | ---------------------------------------- | -------- |\n",
    "| [\"leo\", \"kiki\", \"eden\"]                           | [\"eden\", \"kiki\"]                         | \"leo\"    |\n",
    "| [\"marina\", \"josipa\", \"nikola\", \"vinko\", \"filipa\"] | [\"josipa\", \"filipa\", \"marina\", \"nikola\"] | \"vinko\"  |\n",
    "| [\"mislav\", \"stanko\", \"mislav\", \"ana\"]             | [\"stanko\", \"ana\", \"mislav\"]              | \"mislav\" |\n",
    "\n",
    "## I/O Example Explanation\n",
    "\n",
    "###### Example #1\n",
    "\n",
    "\"leo\" was on the list of participant, but could not finish because \"leo\" was not on the list of completion.\n",
    "\n",
    "###### Example #2\n",
    "\n",
    "\"vinko\" was on the list of participant, but could not finish because \"vinko\" was not on the list of completion.\n",
    "\n",
    "###### Example #3\n",
    "\n",
    "two \"mislav\" was on the list of participant, but one could not finish because there is only one \"mislav\" on the list of completion.\n",
    "\n",
    "## Code\n"
   ]
  },
  {
   "cell_type": "code",
   "execution_count": 2,
   "metadata": {},
   "outputs": [],
   "source": [
    "def solution(participant, completion):\n",
    "\n",
    "    participant.sort()\n",
    "    completion.sort()\n",
    "    length = len(participant)\n",
    "    for i in range(length):\n",
    "        if i == length-1 or participant[i] != completion[i]:\n",
    "            return participant[i]\n"
   ]
  },
  {
   "cell_type": "markdown",
   "metadata": {},
   "source": [
    "## Test"
   ]
  },
  {
   "cell_type": "code",
   "execution_count": 3,
   "metadata": {},
   "outputs": [
    {
     "name": "stdout",
     "output_type": "stream",
     "text": [
      "leo\n",
      "vinko\n",
      "mislav\n"
     ]
    }
   ],
   "source": [
    "print(solution([\"leo\", \"kiki\", \"eden\"], [\"eden\", \"kiki\"]))\n",
    "print(solution([\"marina\", \"josipa\", \"nikola\", \"vinko\", \"filipa\"], [\"josipa\", \"filipa\", \"marina\", \"nikola\"]))\n",
    "print(solution([\"mislav\", \"stanko\", \"mislav\", \"ana\"], [\"stanko\", \"ana\", \"mislav\"]))"
   ]
  }
 ],
 "metadata": {
  "kernelspec": {
   "display_name": "Python 3",
   "language": "python",
   "name": "python3"
  },
  "language_info": {
   "codemirror_mode": {
    "name": "ipython",
    "version": 3
   },
   "file_extension": ".py",
   "mimetype": "text/x-python",
   "name": "python",
   "nbconvert_exporter": "python",
   "pygments_lexer": "ipython3",
   "version": "3.8.3"
  }
 },
 "nbformat": 4,
 "nbformat_minor": 4
}
