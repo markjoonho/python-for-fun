{
 "cells": [
  {
   "cell_type": "markdown",
   "metadata": {},
   "source": [
    "# Class Practice\n",
    "- Define the complex number class\n",
    "- Support addition, subtraction, multiplication\n",
    "- Support length(size) of complex number\n",
    "- Print complex number ex) a+bj\n",
    "- Support Comparing Operator\n",
    "    - == != = <= >= < >\n",
    "- Support absolute value"
   ]
  },
  {
   "cell_type": "code",
   "execution_count": 28,
   "metadata": {},
   "outputs": [],
   "source": [
    "import math\n",
    "class complexNumber:\n",
    "    def __init__(self, real, img):\n",
    "        self.real = real\n",
    "        self.img = img\n",
    "    \n",
    "    def __add__(self, cn):\n",
    "        return complexNumber(self.real + cn.real, self.img + cn.img)\n",
    "    \n",
    "    def __sub__(self, cn):\n",
    "        return complexNumber(self.real - cn.real, self.img - cn.img)\n",
    "    \n",
    "    def __mul__(self, x):\n",
    "        if type(x) == int:\n",
    "            return complexNumber(self.real * x, self.img * x)\n",
    "        elif type(x) == complexNumber:\n",
    "            return complexNumber(self.real * x.real - self.img * x.img, self.real * x.img + self.img * x.real)\n",
    "        \n",
    "    def __eq__(self, cn):\n",
    "        return self.real == cn.reaal and self.img == cn.img\n",
    "    \n",
    "    def __ne__(self, cn):\n",
    "        return not (self.real == cn.reaal and self.img == cn.img)\n",
    "\n",
    "    def __abs__(self):\n",
    "        return math.sqrt(self.real ** 2 + self.img **2)\n",
    "    \n",
    "    def __len__(self):\n",
    "        return int(math.sqrt(self.real ** 2 + self.img **2))\n",
    "    \n",
    "    def __str__(self):\n",
    "        if self.img == 0:\n",
    "            return \"{}\".format(self.real)\n",
    "        if self.real == 0:\n",
    "            return \"{}j\".format(self.img)\n",
    "        if self.img > 0:\n",
    "            return \"{} + {}j\".format(self.real, self.img)\n",
    "        else:\n",
    "            return \"{} - {}j\".format(self.real, abs(self.img))"
   ]
  },
  {
   "cell_type": "code",
   "execution_count": 29,
   "metadata": {},
   "outputs": [],
   "source": [
    "a = complexNumber(1,0)\n",
    "b = complexNumber(2,3)\n",
    "c = complexNumber(-2,-1)"
   ]
  },
  {
   "cell_type": "code",
   "execution_count": 30,
   "metadata": {},
   "outputs": [
    {
     "name": "stdout",
     "output_type": "stream",
     "text": [
      "2j\n"
     ]
    }
   ],
   "source": [
    "print(b + c)"
   ]
  },
  {
   "cell_type": "code",
   "execution_count": 31,
   "metadata": {},
   "outputs": [
    {
     "name": "stdout",
     "output_type": "stream",
     "text": [
      "1 + 2j\n",
      "-6 + 4j\n"
     ]
    }
   ],
   "source": [
    "d = b+c\n",
    "e = a+d\n",
    "print(e)\n",
    "print(b * d)"
   ]
  },
  {
   "cell_type": "code",
   "execution_count": 34,
   "metadata": {},
   "outputs": [
    {
     "data": {
      "text/plain": [
       "3"
      ]
     },
     "execution_count": 34,
     "metadata": {},
     "output_type": "execute_result"
    }
   ],
   "source": [
    "abs(b)\n",
    "len(b)"
   ]
  },
  {
   "cell_type": "code",
   "execution_count": null,
   "metadata": {},
   "outputs": [],
   "source": []
  }
 ],
 "metadata": {
  "kernelspec": {
   "display_name": "Python 3",
   "language": "python",
   "name": "python3"
  },
  "language_info": {
   "codemirror_mode": {
    "name": "ipython",
    "version": 3
   },
   "file_extension": ".py",
   "mimetype": "text/x-python",
   "name": "python",
   "nbconvert_exporter": "python",
   "pygments_lexer": "ipython3",
   "version": "3.8.3"
  }
 },
 "nbformat": 4,
 "nbformat_minor": 4
}
